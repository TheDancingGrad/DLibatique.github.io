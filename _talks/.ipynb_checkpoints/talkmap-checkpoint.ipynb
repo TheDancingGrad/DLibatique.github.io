{
 "cells": [
  {
   "cell_type": "markdown",
   "metadata": {},
   "source": [
    "# Leaflet cluster map of talk locations\n",
    "\n",
    "Run this from the _talks/ directory, which contains .md files of all your talks. This scrapes the location YAML field from each .md file, geolocates it with geopy/Nominatim, and uses the getorg library to output data, HTML, and Javascript for a standalone cluster map."
   ]
  },
  {
   "cell_type": "code",
   "execution_count": 1,
   "metadata": {},
   "outputs": [
    {
     "name": "stdout",
     "output_type": "stream",
     "text": [
      "Collecting getorg\n",
      "  Downloading getorg-0.3.1-py2.py3-none-any.whl\n",
      "Collecting pygithub (from getorg)\n",
      "  Downloading PyGithub-1.35.tar.gz (2.6MB)\n",
      "\u001b[K    100% |████████████████████████████████| 2.6MB 242kB/s ta 0:00:011\n",
      "\u001b[?25hCollecting retrying (from getorg)\n",
      "  Downloading retrying-1.3.3.tar.gz\n",
      "Collecting geopy (from getorg)\n",
      "  Downloading geopy-1.11.0-py2.py3-none-any.whl (66kB)\n",
      "\u001b[K    100% |████████████████████████████████| 71kB 4.3MB/s eta 0:00:01\n",
      "\u001b[?25hCollecting pyjwt (from pygithub->getorg)\n",
      "  Downloading PyJWT-1.5.2-py2.py3-none-any.whl\n",
      "Requirement already up-to-date: six>=1.7.0 in /Users/daniellibatique/Dropbox/Python/anaconda/lib/python2.7/site-packages (from retrying->getorg)\n",
      "Building wheels for collected packages: pygithub, retrying\n",
      "  Running setup.py bdist_wheel for pygithub ... \u001b[?25ldone\n",
      "\u001b[?25h  Stored in directory: /Users/daniellibatique/Library/Caches/pip/wheels/16/ac/6a/9489745d921b8eb7abea30391885fa17ac44caedea3977459b\n",
      "  Running setup.py bdist_wheel for retrying ... \u001b[?25ldone\n",
      "\u001b[?25h  Stored in directory: /Users/daniellibatique/Library/Caches/pip/wheels/d9/08/aa/49f7c109140006ea08a7657640aee3feafb65005bcd5280679\n",
      "Successfully built pygithub retrying\n",
      "Installing collected packages: pyjwt, pygithub, retrying, geopy, getorg\n",
      "Successfully installed geopy-1.11.0 getorg-0.3.1 pygithub-1.35 pyjwt-1.5.2 retrying-1.3.3\n",
      "Iywidgets and ipyleaflet support disabled. You must be in a Jupyter notebook to use this feature.\n",
      "Error raised:\n",
      "No module named ipyleaflet\n",
      "Check that you have enabled ipyleaflet in Jupyter with:\n",
      "    jupyter nbextension enable --py ipyleaflet\n"
     ]
    }
   ],
   "source": [
    "!pip install getorg --upgrade\n",
    "import glob\n",
    "import getorg\n",
    "from geopy import Nominatim"
   ]
  },
  {
   "cell_type": "code",
   "execution_count": 2,
   "metadata": {},
   "outputs": [],
   "source": [
    "g = glob.glob(\"*.md\")"
   ]
  },
  {
   "cell_type": "code",
   "execution_count": 3,
   "metadata": {
    "collapsed": true
   },
   "outputs": [],
   "source": [
    "geocoder = Nominatim()\n",
    "location_dict = {}\n",
    "location = \"\"\n",
    "permalink = \"\"\n",
    "title = \"\""
   ]
  },
  {
   "cell_type": "code",
   "execution_count": 4,
   "metadata": {},
   "outputs": [
    {
     "name": "stdout",
     "output_type": "stream",
     "text": [
      "('New York, NY', '\\n', Location((40.7306458, -73.9866136, 0.0)))\n",
      "('Gainesville, FL', '\\n', Location((29.6519396, -82.3249961, 0.0)))\n",
      "('New York, NY', '\\n', Location((40.7306458, -73.9866136, 0.0)))\n",
      "('Fredericksburg, VA', '\\n', Location((38.3031837, -77.4605399, 0.0)))\n",
      "('Dedham, MA', '\\n', Location((42.2417653, -71.166164, 0.0)))\n",
      "('Wilmington, DE', '\\n', Location((39.7459468, -75.546589, 0.0)))\n",
      "('Williamsburg, VA', '\\n', Location((37.2708788, -76.7074042, 0.0)))\n",
      "('Exeter, NH', '\\n', Location((42.981477, -70.9478343, 0.0)))\n",
      "('Columbus, OH', '\\n', Location((39.9622601, -83.0007065, 0.0)))\n",
      "('Kitchener, ON, CA', '\\n', Location((43.453168, -80.494423, 0.0)))\n",
      "('New York, NY', '\\n', Location((40.7306458, -73.9866136, 0.0)))\n"
     ]
    }
   ],
   "source": [
    "\n",
    "for file in g:\n",
    "    with open(file, 'r') as f:\n",
    "        lines = f.read()\n",
    "        if lines.find('location: \"') > 1:\n",
    "            loc_start = lines.find('location: \"') + 11\n",
    "            lines_trim = lines[loc_start:]\n",
    "            loc_end = lines_trim.find('\"')\n",
    "            location = lines_trim[:loc_end]\n",
    "                            \n",
    "           \n",
    "        location_dict[location] = geocoder.geocode(location)\n",
    "        print(location, \"\\n\", location_dict[location])\n"
   ]
  },
  {
   "cell_type": "code",
   "execution_count": 5,
   "metadata": {},
   "outputs": [
    {
     "data": {
      "text/plain": [
       "'Written map to ../talkmap/'"
      ]
     },
     "execution_count": 5,
     "metadata": {},
     "output_type": "execute_result"
    }
   ],
   "source": [
    "m = getorg.orgmap.create_map_obj()\n",
    "getorg.orgmap.output_html_cluster_map(location_dict, folder_name=\"../talkmap\", hashed_usernames=False)"
   ]
  },
  {
   "cell_type": "code",
   "execution_count": null,
   "metadata": {
    "collapsed": true
   },
   "outputs": [],
   "source": []
  }
 ],
 "metadata": {
  "anaconda-cloud": {},
  "kernelspec": {
   "display_name": "Python 2",
   "language": "python",
   "name": "python2"
  },
  "language_info": {
   "codemirror_mode": {
    "name": "ipython",
    "version": 2
   },
   "file_extension": ".py",
   "mimetype": "text/x-python",
   "name": "python",
   "nbconvert_exporter": "python",
   "pygments_lexer": "ipython2",
   "version": "2.7.13"
  }
 },
 "nbformat": 4,
 "nbformat_minor": 1
}
